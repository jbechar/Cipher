{
 "cells": [
  {
   "cell_type": "markdown",
   "id": "809dfdc2",
   "metadata": {},
   "source": [
    "You and your pen pal, Vishal, have been exchanging letters for some time now. Recently, he has become interested in cryptography and the two of you have started sending encoded messages within your letters.\n",
    "\n",
    "In this project, you will use your Python skills to decipher the messages you receive and to encode your own responses! Put your programming skills to the test with these fun cryptography puzzles."
   ]
  },
  {
   "cell_type": "code",
   "execution_count": 95,
   "id": "fa34635c",
   "metadata": {},
   "outputs": [],
   "source": [
    "from operator import itemgetter# we use this module much later"
   ]
  },
  {
   "cell_type": "code",
   "execution_count": 96,
   "id": "0e941a6e",
   "metadata": {},
   "outputs": [
    {
     "data": {
      "text/plain": [
       "26"
      ]
     },
     "execution_count": 96,
     "metadata": {},
     "output_type": "execute_result"
    }
   ],
   "source": [
    "alphabet = ['a', 'b', 'c', 'd', 'e', 'f', 'g', 'h', 'i', 'j', 'k', 'l', 'm', 'n', 'o', 'p', 'q', 'r', 's', 't', 'u', 'v', 'w', 'x', 'y', 'z']\n",
    "len(alphabet)#the len function finds the length of any python object, running this block will give you the output"
   ]
  },
  {
   "cell_type": "code",
   "execution_count": 97,
   "id": "093d451b",
   "metadata": {},
   "outputs": [],
   "source": [
    "message_one = \"xuo jxuhu! jxyi yi qd unqcfbu ev q squiqh syfxuh. muhu oek qrbu je tusetu yj? y xefu ie! iudt cu q cuiiqwu rqsa myjx jxu iqcu evviuj!\"\n",
    "encryption = \"\""
   ]
  },
  {
   "cell_type": "markdown",
   "id": "68bb8779",
   "metadata": {},
   "source": [
    "In the above, we have the encypted message, and another empty string called encryption, which will house the decrypted message"
   ]
  },
  {
   "cell_type": "code",
   "execution_count": 98,
   "id": "c6f7f6bb",
   "metadata": {},
   "outputs": [
    {
     "name": "stdout",
     "output_type": "stream",
     "text": [
      "hey there! this is an example of a caesar cipher. were you able to decode it? i hope so! send me a message back with the same offset!\n"
     ]
    }
   ],
   "source": [
    "for a in message_one:#iterates through each character in our string\n",
    "    if a.islower():#checks if the character is a string, preserving the puncuation of our mesage\n",
    "        index = alphabet.index(a)#finds the index of this item in the alphabet list\n",
    "        new_index = (index + 10) % 26#applies the shift of 10 to each charecter in the list, finding the index of the charcter 10 places after it in the alphabet. The modulo operator helps towards the end of the alphabet. If a letter is only 3 places from the end of the alphabet, the modulo operator caluclates a remaninder of 7, and goes 7 from the start of the alphabet, turning x into h! \n",
    "        new_letter = itemgetter(new_index)(alphabet)#finds the charecter associated to the shifted index's\n",
    "        encryption = encryption + new_letter#adds the new value to the string\n",
    "    else:\n",
    "        encryption += a# if the value is not a string, don't change it, preserving the punctuation of the message\n",
    "        \n",
    "print(encryption)#prints out the decrypted message\n",
    "        \n",
    "        "
   ]
  },
  {
   "cell_type": "markdown",
   "id": "ca3c378b",
   "metadata": {},
   "source": [
    "Great job! Now send Vishal back a message using the same offset. Your message can be anything you want! Remember, encoding happens in opposite direction of decoding."
   ]
  },
  {
   "cell_type": "code",
   "execution_count": 99,
   "id": "f1134ea3",
   "metadata": {},
   "outputs": [
    {
     "name": "stdout",
     "output_type": "stream",
     "text": [
      "Huo Vyixqb, I wej jxu cuiiqwu, yid'j jxyi huqbbo vkd!\n"
     ]
    }
   ],
   "source": [
    "mymessage = \"Hey Vishal, I got the message, isn't this really fun!\"\n",
    "encrypted = \"\"\n",
    "#now i have what i want to send back and an empty list for the encrypted message to go into, lets start looping\n",
    "\n",
    "for i in mymessage:\n",
    "    if i.islower():#checks if the character is a string, preserving the puncuation of our mesage\n",
    "        index = alphabet.index(i)#finds the index of this item in the alphabet list, and saves it to a variable\n",
    "        new_index = (index - 10) % 26#applies the reverse shift of 10 to our message, finding the index of the charcter 10 places before it in the alphabet. The modulo operator helps towards the end of the alphabet. If a letter is only 7 places from the start of the alphabet, the modulo operator caluclates a remaninder of 3, and goes 3 from the end of the alphabet, turning h into x!, srambling our message \n",
    "        new_letter = itemgetter(new_index)(alphabet)#finds the charecter associated to the shifted index's\n",
    "        encrypted = encrypted + new_letter#adds the new value to the string\n",
    "    else:\n",
    "        encrypted += i# if the value is not a string, don't change it, preserving the punctuation of the message\n",
    "        \n",
    "print(encrypted)\n"
   ]
  },
  {
   "cell_type": "markdown",
   "id": "3ffdf0c6",
   "metadata": {},
   "source": [
    "We now have two more replies from Vishal. In order to decrypt more messages faster, we are going to define a function that takes the encrypted message and offset as our arguments, and outputs the decrypted message"
   ]
  },
  {
   "cell_type": "code",
   "execution_count": 100,
   "id": "78432372",
   "metadata": {},
   "outputs": [
    {
     "name": "stdout",
     "output_type": "stream",
     "text": [
      "the offset for the second message is fourteen.\n",
      "performing multiple caesar ciphers to code your messages is even more secure!\n"
     ]
    }
   ],
   "source": [
    "#this one decodes the messages\n",
    "def caesar_decode(message, offset):\n",
    "    decoded = \"\"\n",
    "    for i in message:\n",
    "        if i.islower():\n",
    "            index = alphabet.index(i)\n",
    "            new_index = (index + offset) % 26\n",
    "            new_letter = itemgetter(new_index)(alphabet)\n",
    "            decoded = decoded + new_letter\n",
    "        else:\n",
    "            decoded += i \n",
    "    return decoded\n",
    "\n",
    "print(caesar_decode(\"jxu evviuj veh jxu iusedt cuiiqwu yi vekhjuud.\",10))#calls the function for our next message\n",
    "\n",
    "\n",
    "print(caesar_decode(\"bqdradyuzs ygxfubxq omqemd oubtqde fa oapq kagd yqeemsqe ue qhqz yadq eqogdq!\",14))      \n",
    "    "
   ]
  },
  {
   "cell_type": "code",
   "execution_count": 101,
   "id": "0ac3a2ad",
   "metadata": {},
   "outputs": [],
   "source": [
    "#this one encrypts the message\n",
    "def caesar_decode(message, offset):\n",
    "    encoded = \"\"\n",
    "    for i in message:\n",
    "        if i.islower():\n",
    "            index = alphabet.index(i)\n",
    "            new_index = (index - offset) % 26\n",
    "            new_letter = itemgetter(new_index)(alphabet)\n",
    "            encoded = encoded + new_letter\n",
    "        else:\n",
    "            encoded += i \n",
    "    return encoded"
   ]
  },
  {
   "cell_type": "code",
   "execution_count": 102,
   "id": "44800464",
   "metadata": {},
   "outputs": [
    {
     "name": "stdout",
     "output_type": "stream",
     "text": [
      "computers have rendered all of these old ciphers obsolete. we'll have to really step up our game if we want to keep our messages safe.\n"
     ]
    }
   ],
   "source": [
    "#for this message, we have to find the number of offset, it has to be a number from 1 to 26, so brute foricing those I found it to be 19\n",
    "print(caesar_decode(\"vhfinmxkl atox kxgwxkxw tee hy maxlx hew vbiaxkl hulhexmx. px'ee atox mh kxteer lmxi ni hnk ztfx by px ptgm mh dxxi hnk fxlltzxl ltyx.\",19\n",
    "                    \n",
    "                    \n",
    "                    \n",
    "                    \n",
    "                    \n",
    "))"
   ]
  },
  {
   "cell_type": "markdown",
   "id": "21b0d977",
   "metadata": {},
   "source": [
    "\n",
    "Great work! While you were working on the brute force cracking of the cipher, Vishal sent over another letter. That guy is a letter machine!\n",
    "\n",
    "Salutations! As you can see, technology has made brute forcing simple ciphers like the Caesar Cipher extremely easy, and us crypto-enthusiasts have had to get more creative and use more complicated ciphers. This next cipher I'm going to teach you is the Vigenère Cipher, invented by an Italian cryptologist named Giovan Battista Bellaso (cool name eh?) in the 16th century, but named after another cryptologist from the 16th century, Blaise de Vigenère.\n",
    " \n",
    "The Vigenère Cipher is a polyalphabetic substitution cipher, as opposed to the Caesar Cipher which was a monoalphabetic substitution cipher. What this means is that opposed to having a single shift that is applied to every letter, the Vigenère Cipher has a different shift for each individual letter. The value of the shift for each letter is determined by a given keyword.\n",
    " \n",
    "Consider the message:\n",
    " \n",
    "    barry is the spy\n",
    " \n",
    "If we want to code this message, first we choose a keyword. For this example, we'll use the keyword\n",
    " \n",
    "    dog\n",
    " \n",
    "Now we repeat the keyword over and over to generate a keyword phrase that is the same length as the message we want to code. So if we want to code the message \"barry is the spy\" our keyword phrase is \"dogdo gd ogd ogd\". Now we are ready to start coding our message. We shift each letter of our message by the place value of the corresponding letter in the keyword phrase, assuming that \"a\" has a place value of 0, \"b\" has a place value of 1, and so forth.\n",
    " \n",
    "              message:    b  a  r  r  y    i  s    t  h  e    s  p  y\n",
    " \n",
    "       keyword phrase:    d  o  g  d  o    g  d    o  g  d    o  g  d\n",
    " \n",
    "resulting place value:    24 12 11 14 10   2  15   5  1  1    4  9  21\n",
    " \n",
    "So we shift \"b\", which has an index of 1, by the index of \"d\", which is 3. This gives us an place value of 24, which is \"y\". Remember to loop back around when we reach either end of the alphabet! Then continue the trend: we shift \"a\" by the place value of \"o\", 14, and get \"m\", we shift \"r\" by the place value of \"g\", 15, and get \"l\", shift the next \"r\" by 4 places and get \"o\", and so forth. Once we complete all the shifts we end up with our coded message:\n",
    " \n",
    "    ymlok cp fbb ejv\n",
    " \n",
    "As you can imagine, this is a lot harder to crack without knowing the keyword! So now comes the hard part. I'll give you a message and the keyword, and you'll see if you can figure out how to crack it!"
   ]
  },
  {
   "cell_type": "code",
   "execution_count": 103,
   "id": "28d6e25e",
   "metadata": {},
   "outputs": [
    {
     "ename": "SyntaxError",
     "evalue": "EOL while scanning string literal (1508334796.py, line 2)",
     "output_type": "error",
     "traceback": [
      "\u001b[1;36m  Input \u001b[1;32mIn [103]\u001b[1;36m\u001b[0m\n\u001b[1;33m    punctuation = [\".\",\",\",\"?\",\"!\",\"'\",\"\\\" ]\u001b[0m\n\u001b[1;37m                                            ^\u001b[0m\n\u001b[1;31mSyntaxError\u001b[0m\u001b[1;31m:\u001b[0m EOL while scanning string literal\n"
     ]
    }
   ],
   "source": [
    "alphabet = ['a', 'b', 'c', 'd', 'e', 'f', 'g', 'h', 'i', 'j', 'k', 'l', 'm', 'n', 'o', 'p', 'q', 'r', 's', 't', 'u', 'v', 'w', 'x', 'y', 'z']\n",
    "punctuation = [\".\",\",\",\"?\",\"!\",\"'\",\"\\\" ]\n",
    "                 \n",
    "def vigenere_decoder(coded_message, keyword):\n",
    "    letter_pointer = 0\n",
    "    keyword_final = ''#an empty array named keyword final\n",
    "    for i in range(0,len(coded_message)):#for each element in our coded message\n",
    "        if coded_message[i] in punctuation:#if the charecter is in puncutaiton, do nothing, so we only change the letters here\n",
    "            keyword_final += coded_message[i]\n",
    "        else:\n",
    "            create an endless loop of the word friend to use as a cipher, producing a phrase which is appended to the empty list\n",
    "    translated_message = ''#an empty variable for the translated message\n",
    "    for i in range(0,len(coded_message)):#for each element in our coded message    \n",
    "        if not coded_message[i] in punctuation:#if we are not looking at punctuation\n",
    "            ln = alphabet.find(coded_message[i]) - alphabet.find(keyword_final[i])#defines a varible that goes through each element in the coded message, and subtracts its index from the index of the current charecter in the keyphrasse\n",
    "            translated_message += alphabet[ln % 26]#we then circulate the alphabet, applying this offset to each charecter in our message\n",
    "        else:\n",
    "            translated_message += coded_message[i]# if we are on punctuation, do nothing, leave it as it is\n",
    "    return translated_message\n",
    "                 \n",
    "print(vigenere_decoder(\"txm srom vkda gl lzlgzr qpdb? fepb ejac! ubr imn tapludwy mhfbz cza ruxzal wg\",\"friend\" ))"
   ]
  },
  {
   "cell_type": "code",
   "execution_count": 119,
   "id": "43a5afc1",
   "metadata": {
    "scrolled": false
   },
   "outputs": [
    {
     "name": "stdout",
     "output_type": "stream",
     "text": [
      "ogevfowhingqxhburhmiouarmcaj?uowlowmeju!vhyzurejmqikumzjvhhqxxmwkujrnhuhvurst\n"
     ]
    }
   ],
   "source": [
    "alphabet_one = \"abcdefghijklmnopqrstuvwxyz\"\n",
    "punctuation = \".,?'!\"\n",
    "\n",
    "def vigenere_decoder(coded_message, keyword):\n",
    "    letter_pointer = 0\n",
    "    keyword_final = ''#an empty array named keyword final\n",
    "    for i in range(0,len(coded_message)):#for each element in our coded message\n",
    "        if not coded_message[i] in punctuation:\n",
    "            keyword_final += keyword[letter_pointer]#otherise, add the letter pointer to the keyword\n",
    "            letter_pointer = (letter_pointer+1)%len(keyword)#move one along the keywrod, using module to cycle \n",
    "        else:\n",
    "            keyword_final += coded_message[i]\n",
    "            translated_message = ''#an empty variable for the translated message\n",
    "    for i in range(0,len(coded_message)):\n",
    "        if not coded_message[i] in punctuation:\n",
    "            ln = alphabet_one.find(coded_message[i]) - alphabet_one.find(keyword_final[i])#defines a varible that goes through each element in the coded message, and subtracts its index from the index of the current charecter in the keyphrasse\n",
    "            translated_message += alphabet_one[ln % 26]#we then circulate the alphabet, applying this offset to each charecter in our message\n",
    "        else:\n",
    "            translated_message += coded_message[i]# if we are on punctuation, do nothing, leave it as it is\n",
    "    return translated_message\n",
    "\n",
    "\n",
    "            \n",
    "print(vigenere_decoder(\"txm srom vkda gl lzlgzr qpdb? fepb ejac! ubr imn tapludwy mhfbz cza ruxzal wg\",\"friends\" ))"
   ]
  },
  {
   "cell_type": "code",
   "execution_count": 125,
   "id": "d4dddaa5",
   "metadata": {},
   "outputs": [
    {
     "name": "stdout",
     "output_type": "stream",
     "text": [
      "ogevfowhingqxhburhmiouarmcaj?uowlowmeju!vhyzurejmqikumzjvhhqxxmwkujrnhuhvurst\n"
     ]
    }
   ],
   "source": [
    "def vigenere_decoder(coded_message, keyword):\n",
    "    letter_pointer = 0\n",
    "    keyword_final = ''\n",
    "    for i in range(0,len(coded_message)):\n",
    "        if coded_message[i] in punctuation:\n",
    "            keyword_final += coded_message[i]\n",
    "        else:\n",
    "            keyword_final += keyword[letter_pointer]\n",
    "            letter_pointer = (letter_pointer+1)%len(keyword)#all this code repeats our keyword loads of times, to create a unique phrase, so each character is offset differently\n",
    "    translated_message = ''#an empty array\n",
    "    for i in range(0,len(coded_message)):    \n",
    "        if not coded_message[i] in punctuation:#for each value in the array, if it's a string\n",
    "            ln = alphabet_one.find(coded_message[i]) - alphabet_one.find(keyword_final[i])#subtract the index of our current value in the alphabet list from the index value of our kephrase in the alphabet list, creating a scrable of indexes, and saves this to a variable\n",
    "            translated_message += alphabet_one[ln % 26]#append our empty list with the charecter in the alphabet associated with each index saved to the variable ln\n",
    "        else:\n",
    "            translated_message += coded_message[i]#otherwise do nothing if this is simply a bit of punctuation\n",
    "    return translated_message\n",
    "\n",
    "print(vigenere_decoder(\"txm srom vkda gl lzlgzr qpdb? fepb ejac! ubr imn tapludwy mhfbz cza ruxzal wg\",\"friends\" ))"
   ]
  },
  {
   "cell_type": "code",
   "execution_count": 137,
   "id": "700e0af3",
   "metadata": {},
   "outputs": [
    {
     "name": "stdout",
     "output_type": "stream",
     "text": [
      "qsmdx\n",
      "hello\n"
     ]
    }
   ],
   "source": [
    "#the code below encrypts a function with the Vigenere cipher\n",
    "def vigenere_encoder(message, keyword):\n",
    "    letter_pointer = 0#an empty number for the letter pointer\n",
    "    keyword_final = ''#an empty string\n",
    "    for i in range(0,len(message)):#for each item in the message\n",
    "        if message[i] in punctuation:\n",
    "                keyword_final += message[i]#if this is punctuation, do nothing\n",
    "        else:\n",
    "            keyword_final += keyword[letter_pointer]#if it is a string, take the index of the first point \n",
    "            letter_pointer = (letter_pointer+1)%len(keyword)#keep going through the keyword again and again, to make a loop of the word to decode our phrase with\n",
    "    translated_message = ''#another empty array\n",
    "    for i in range(0,len(message)):  #for every character in our message  \n",
    "        if not message[i] in punctuation:#if our character is a string\n",
    "            ln = alphabet_one.find(message[i]) + alphabet_one.find(keyword_final[i])#add the index of our charecter in the alphabet list, to the index of the particular offset for that character generated by the loopoing keyphrase\n",
    "            translated_message += alphabet_one[ln % 26]#append our empty array, with the item tied to the new index, provided you are looping through the alphabet\n",
    "        else:\n",
    "            translated_message += coded_message[i]#otherwise do nothing if this is simply a bit of punctuation\n",
    "    return translated_message\n",
    "print(vigenere_encoder(\"hello\", \"jobs\"))\n",
    "\n",
    "\n",
    "print(vigenere_decoder(\"qsmdx\", \"jobs\"))"
   ]
  }
 ],
 "metadata": {
  "kernelspec": {
   "display_name": "Python 3 (ipykernel)",
   "language": "python",
   "name": "python3"
  },
  "language_info": {
   "codemirror_mode": {
    "name": "ipython",
    "version": 3
   },
   "file_extension": ".py",
   "mimetype": "text/x-python",
   "name": "python",
   "nbconvert_exporter": "python",
   "pygments_lexer": "ipython3",
   "version": "3.9.12"
  }
 },
 "nbformat": 4,
 "nbformat_minor": 5
}
